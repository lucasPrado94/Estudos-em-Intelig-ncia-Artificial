{
  "nbformat": 4,
  "nbformat_minor": 0,
  "metadata": {
    "colab": {
      "name": "Pre-processamento de dados.ipynb",
      "provenance": [],
      "collapsed_sections": [],
      "toc_visible": true
    },
    "kernelspec": {
      "name": "python383jvsc74a57bd08fac594bfae6525c0c41b4041d2d72effa188cc8ead05f81b1fab2bb098927fb",
      "display_name": "Python 3.8.3 64-bit (conda)"
    },
    "language_info": {
      "name": "python",
      "version": "3.8.3-final"
    }
  },
  "cells": [
    {
      "cell_type": "markdown",
      "metadata": {
        "id": "ojRYC2uRK5Z0"
      },
      "source": [
        "Trabalho de Inteligência Artificial.\n",
        "Alunos: Jairo Sousa e Lucas Prado"
      ]
    },
    {
      "cell_type": "code",
      "metadata": {
        "id": "nezetrVL6T9z"
      },
      "source": [
        "# importando a biblioteca Pandas do Python\n",
        "import pandas as pd"
      ],
      "execution_count": 11,
      "outputs": []
    },
    {
      "cell_type": "code",
      "metadata": {
        "id": "xAs6KDQ86qsi"
      },
      "source": [
        "# criando o objeto dataframe com todos os registros do banco de dados\n",
        "dataframe = pd.DataFrame(data=pd.read_csv(\"dataset/aluguel.csv\", encoding = \"UTF-8\", sep = \";\"))"
      ],
      "execution_count": 12,
      "outputs": []
    },
    {
      "cell_type": "markdown",
      "metadata": {
        "id": "6nLTeEM5H1C0"
      },
      "source": [
        "#1. Crie um dataframe contendo apenas o seu tipo de imóveis. Ajuste os rótulo de linhas do dataframe"
      ]
    },
    {
      "cell_type": "code",
      "metadata": {
        "colab": {
          "base_uri": "https://localhost:8080/",
          "height": 402
        },
        "id": "u-jrEiew7jc5",
        "outputId": "97ebf501-5935-4185-fa8d-df92fe4c4d15"
      },
      "source": [
        "dataframe_aptos = dataframe.loc[dataframe[\"Tipo\"] == \"Apartamento\"]\n",
        "linhas = list(range(19532))\n",
        "dataframe_aptos.index = linhas\n",
        "dataframe_aptos"
      ],
      "execution_count": 13,
      "outputs": [
        {
          "output_type": "execute_result",
          "data": {
            "text/plain": [
              "              Tipo                Bairro  Quartos  Vagas  Suites  Area  \\\n",
              "0      Apartamento                Centro        1      0       0    15   \n",
              "1      Apartamento          Higienópolis        1      0       0    48   \n",
              "2      Apartamento          Vista Alegre        3      1       0    70   \n",
              "3      Apartamento              Cachambi        2      0       0    50   \n",
              "4      Apartamento                Centro        1      0       0    36   \n",
              "...            ...                   ...      ...    ...     ...   ...   \n",
              "19527  Apartamento        Vila Valqueire        2      0       0    52   \n",
              "19528  Apartamento                 Méier        2      0       0    70   \n",
              "19529  Apartamento           Jacarepaguá        3      1       2    78   \n",
              "19530  Apartamento  São Francisco Xavier        2      1       0    48   \n",
              "19531  Apartamento                Leblon        2      0       0    70   \n",
              "\n",
              "        Valor  Condominio  IPTU  \n",
              "0       800.0       390.0  20.0  \n",
              "1       800.0       230.0   NaN  \n",
              "2      1200.0         NaN   NaN  \n",
              "3      1300.0       301.0  17.0  \n",
              "4      1200.0         NaN   NaN  \n",
              "...       ...         ...   ...  \n",
              "19527  1000.0       550.0   NaN  \n",
              "19528   900.0       490.0  48.0  \n",
              "19529  1800.0       800.0  40.0  \n",
              "19530  1400.0       509.0  37.0  \n",
              "19531  3000.0       760.0   NaN  \n",
              "\n",
              "[19532 rows x 9 columns]"
            ],
            "text/html": "<div>\n<style scoped>\n    .dataframe tbody tr th:only-of-type {\n        vertical-align: middle;\n    }\n\n    .dataframe tbody tr th {\n        vertical-align: top;\n    }\n\n    .dataframe thead th {\n        text-align: right;\n    }\n</style>\n<table border=\"1\" class=\"dataframe\">\n  <thead>\n    <tr style=\"text-align: right;\">\n      <th></th>\n      <th>Tipo</th>\n      <th>Bairro</th>\n      <th>Quartos</th>\n      <th>Vagas</th>\n      <th>Suites</th>\n      <th>Area</th>\n      <th>Valor</th>\n      <th>Condominio</th>\n      <th>IPTU</th>\n    </tr>\n  </thead>\n  <tbody>\n    <tr>\n      <th>0</th>\n      <td>Apartamento</td>\n      <td>Centro</td>\n      <td>1</td>\n      <td>0</td>\n      <td>0</td>\n      <td>15</td>\n      <td>800.0</td>\n      <td>390.0</td>\n      <td>20.0</td>\n    </tr>\n    <tr>\n      <th>1</th>\n      <td>Apartamento</td>\n      <td>Higienópolis</td>\n      <td>1</td>\n      <td>0</td>\n      <td>0</td>\n      <td>48</td>\n      <td>800.0</td>\n      <td>230.0</td>\n      <td>NaN</td>\n    </tr>\n    <tr>\n      <th>2</th>\n      <td>Apartamento</td>\n      <td>Vista Alegre</td>\n      <td>3</td>\n      <td>1</td>\n      <td>0</td>\n      <td>70</td>\n      <td>1200.0</td>\n      <td>NaN</td>\n      <td>NaN</td>\n    </tr>\n    <tr>\n      <th>3</th>\n      <td>Apartamento</td>\n      <td>Cachambi</td>\n      <td>2</td>\n      <td>0</td>\n      <td>0</td>\n      <td>50</td>\n      <td>1300.0</td>\n      <td>301.0</td>\n      <td>17.0</td>\n    </tr>\n    <tr>\n      <th>4</th>\n      <td>Apartamento</td>\n      <td>Centro</td>\n      <td>1</td>\n      <td>0</td>\n      <td>0</td>\n      <td>36</td>\n      <td>1200.0</td>\n      <td>NaN</td>\n      <td>NaN</td>\n    </tr>\n    <tr>\n      <th>...</th>\n      <td>...</td>\n      <td>...</td>\n      <td>...</td>\n      <td>...</td>\n      <td>...</td>\n      <td>...</td>\n      <td>...</td>\n      <td>...</td>\n      <td>...</td>\n    </tr>\n    <tr>\n      <th>19527</th>\n      <td>Apartamento</td>\n      <td>Vila Valqueire</td>\n      <td>2</td>\n      <td>0</td>\n      <td>0</td>\n      <td>52</td>\n      <td>1000.0</td>\n      <td>550.0</td>\n      <td>NaN</td>\n    </tr>\n    <tr>\n      <th>19528</th>\n      <td>Apartamento</td>\n      <td>Méier</td>\n      <td>2</td>\n      <td>0</td>\n      <td>0</td>\n      <td>70</td>\n      <td>900.0</td>\n      <td>490.0</td>\n      <td>48.0</td>\n    </tr>\n    <tr>\n      <th>19529</th>\n      <td>Apartamento</td>\n      <td>Jacarepaguá</td>\n      <td>3</td>\n      <td>1</td>\n      <td>2</td>\n      <td>78</td>\n      <td>1800.0</td>\n      <td>800.0</td>\n      <td>40.0</td>\n    </tr>\n    <tr>\n      <th>19530</th>\n      <td>Apartamento</td>\n      <td>São Francisco Xavier</td>\n      <td>2</td>\n      <td>1</td>\n      <td>0</td>\n      <td>48</td>\n      <td>1400.0</td>\n      <td>509.0</td>\n      <td>37.0</td>\n    </tr>\n    <tr>\n      <th>19531</th>\n      <td>Apartamento</td>\n      <td>Leblon</td>\n      <td>2</td>\n      <td>0</td>\n      <td>0</td>\n      <td>70</td>\n      <td>3000.0</td>\n      <td>760.0</td>\n      <td>NaN</td>\n    </tr>\n  </tbody>\n</table>\n<p>19532 rows × 9 columns</p>\n</div>"
          },
          "metadata": {},
          "execution_count": 13
        }
      ]
    },
    {
      "cell_type": "markdown",
      "metadata": {
        "id": "UE5QWBBjEs-W"
      },
      "source": [
        "#2. Para o novo dataframe, proponha 5 possíveis seleções. Para cada seleção proposta, deixe um comentário no código explicando que o objetivo da seleção. Exemplo: Selecionar pacientes cujo diagnóstico é doente."
      ]
    },
    {
      "cell_type": "code",
      "metadata": {
        "colab": {
          "base_uri": "https://localhost:8080/",
          "height": 402
        },
        "id": "uqU3R7n-C8Py",
        "outputId": "935c2c2a-5fb1-442d-cbb9-3d394e5c16c8"
      },
      "source": [
        "# Primeira - Selecionar apartamentos que não possuem suíte\n",
        "dataframe_aptos.loc[dataframe_aptos[\"Suites\"] == 0]"
      ],
      "execution_count": 14,
      "outputs": [
        {
          "output_type": "execute_result",
          "data": {
            "text/plain": [
              "              Tipo                Bairro  Quartos  Vagas  Suites  Area  \\\n",
              "0      Apartamento                Centro        1      0       0    15   \n",
              "1      Apartamento          Higienópolis        1      0       0    48   \n",
              "2      Apartamento          Vista Alegre        3      1       0    70   \n",
              "3      Apartamento              Cachambi        2      0       0    50   \n",
              "4      Apartamento                Centro        1      0       0    36   \n",
              "...            ...                   ...      ...    ...     ...   ...   \n",
              "19526  Apartamento                Tijuca        1      0       0    28   \n",
              "19527  Apartamento        Vila Valqueire        2      0       0    52   \n",
              "19528  Apartamento                 Méier        2      0       0    70   \n",
              "19530  Apartamento  São Francisco Xavier        2      1       0    48   \n",
              "19531  Apartamento                Leblon        2      0       0    70   \n",
              "\n",
              "        Valor  Condominio  IPTU  \n",
              "0       800.0       390.0  20.0  \n",
              "1       800.0       230.0   NaN  \n",
              "2      1200.0         NaN   NaN  \n",
              "3      1300.0       301.0  17.0  \n",
              "4      1200.0         NaN   NaN  \n",
              "...       ...         ...   ...  \n",
              "19526  1000.0       360.0  25.0  \n",
              "19527  1000.0       550.0   NaN  \n",
              "19528   900.0       490.0  48.0  \n",
              "19530  1400.0       509.0  37.0  \n",
              "19531  3000.0       760.0   NaN  \n",
              "\n",
              "[7816 rows x 9 columns]"
            ],
            "text/html": "<div>\n<style scoped>\n    .dataframe tbody tr th:only-of-type {\n        vertical-align: middle;\n    }\n\n    .dataframe tbody tr th {\n        vertical-align: top;\n    }\n\n    .dataframe thead th {\n        text-align: right;\n    }\n</style>\n<table border=\"1\" class=\"dataframe\">\n  <thead>\n    <tr style=\"text-align: right;\">\n      <th></th>\n      <th>Tipo</th>\n      <th>Bairro</th>\n      <th>Quartos</th>\n      <th>Vagas</th>\n      <th>Suites</th>\n      <th>Area</th>\n      <th>Valor</th>\n      <th>Condominio</th>\n      <th>IPTU</th>\n    </tr>\n  </thead>\n  <tbody>\n    <tr>\n      <th>0</th>\n      <td>Apartamento</td>\n      <td>Centro</td>\n      <td>1</td>\n      <td>0</td>\n      <td>0</td>\n      <td>15</td>\n      <td>800.0</td>\n      <td>390.0</td>\n      <td>20.0</td>\n    </tr>\n    <tr>\n      <th>1</th>\n      <td>Apartamento</td>\n      <td>Higienópolis</td>\n      <td>1</td>\n      <td>0</td>\n      <td>0</td>\n      <td>48</td>\n      <td>800.0</td>\n      <td>230.0</td>\n      <td>NaN</td>\n    </tr>\n    <tr>\n      <th>2</th>\n      <td>Apartamento</td>\n      <td>Vista Alegre</td>\n      <td>3</td>\n      <td>1</td>\n      <td>0</td>\n      <td>70</td>\n      <td>1200.0</td>\n      <td>NaN</td>\n      <td>NaN</td>\n    </tr>\n    <tr>\n      <th>3</th>\n      <td>Apartamento</td>\n      <td>Cachambi</td>\n      <td>2</td>\n      <td>0</td>\n      <td>0</td>\n      <td>50</td>\n      <td>1300.0</td>\n      <td>301.0</td>\n      <td>17.0</td>\n    </tr>\n    <tr>\n      <th>4</th>\n      <td>Apartamento</td>\n      <td>Centro</td>\n      <td>1</td>\n      <td>0</td>\n      <td>0</td>\n      <td>36</td>\n      <td>1200.0</td>\n      <td>NaN</td>\n      <td>NaN</td>\n    </tr>\n    <tr>\n      <th>...</th>\n      <td>...</td>\n      <td>...</td>\n      <td>...</td>\n      <td>...</td>\n      <td>...</td>\n      <td>...</td>\n      <td>...</td>\n      <td>...</td>\n      <td>...</td>\n    </tr>\n    <tr>\n      <th>19526</th>\n      <td>Apartamento</td>\n      <td>Tijuca</td>\n      <td>1</td>\n      <td>0</td>\n      <td>0</td>\n      <td>28</td>\n      <td>1000.0</td>\n      <td>360.0</td>\n      <td>25.0</td>\n    </tr>\n    <tr>\n      <th>19527</th>\n      <td>Apartamento</td>\n      <td>Vila Valqueire</td>\n      <td>2</td>\n      <td>0</td>\n      <td>0</td>\n      <td>52</td>\n      <td>1000.0</td>\n      <td>550.0</td>\n      <td>NaN</td>\n    </tr>\n    <tr>\n      <th>19528</th>\n      <td>Apartamento</td>\n      <td>Méier</td>\n      <td>2</td>\n      <td>0</td>\n      <td>0</td>\n      <td>70</td>\n      <td>900.0</td>\n      <td>490.0</td>\n      <td>48.0</td>\n    </tr>\n    <tr>\n      <th>19530</th>\n      <td>Apartamento</td>\n      <td>São Francisco Xavier</td>\n      <td>2</td>\n      <td>1</td>\n      <td>0</td>\n      <td>48</td>\n      <td>1400.0</td>\n      <td>509.0</td>\n      <td>37.0</td>\n    </tr>\n    <tr>\n      <th>19531</th>\n      <td>Apartamento</td>\n      <td>Leblon</td>\n      <td>2</td>\n      <td>0</td>\n      <td>0</td>\n      <td>70</td>\n      <td>3000.0</td>\n      <td>760.0</td>\n      <td>NaN</td>\n    </tr>\n  </tbody>\n</table>\n<p>7816 rows × 9 columns</p>\n</div>"
          },
          "metadata": {},
          "execution_count": 14
        }
      ]
    },
    {
      "cell_type": "code",
      "metadata": {
        "colab": {
          "base_uri": "https://localhost:8080/",
          "height": 402
        },
        "id": "38-7OOsPE3sl",
        "outputId": "da9d980d-8584-4852-a5e1-5ee643eaff6b"
      },
      "source": [
        "# Segunda - Apartamentos com mais de 2 quartos, para famílias maiores\n",
        "dataframe_aptos.loc[dataframe_aptos[\"Quartos\"] >= 2]"
      ],
      "execution_count": 15,
      "outputs": [
        {
          "output_type": "execute_result",
          "data": {
            "text/plain": [
              "              Tipo                Bairro  Quartos  Vagas  Suites  Area  \\\n",
              "2      Apartamento          Vista Alegre        3      1       0    70   \n",
              "3      Apartamento              Cachambi        2      0       0    50   \n",
              "5      Apartamento                Grajaú        2      1       0    70   \n",
              "6      Apartamento   Lins de Vasconcelos        3      1       1    90   \n",
              "8      Apartamento            Copacabana        4      3       1   243   \n",
              "...            ...                   ...      ...    ...     ...   ...   \n",
              "19527  Apartamento        Vila Valqueire        2      0       0    52   \n",
              "19528  Apartamento                 Méier        2      0       0    70   \n",
              "19529  Apartamento           Jacarepaguá        3      1       2    78   \n",
              "19530  Apartamento  São Francisco Xavier        2      1       0    48   \n",
              "19531  Apartamento                Leblon        2      0       0    70   \n",
              "\n",
              "         Valor  Condominio   IPTU  \n",
              "2       1200.0         NaN    NaN  \n",
              "3       1300.0       301.0   17.0  \n",
              "5       1500.0       642.0   74.0  \n",
              "6       1500.0       455.0   14.0  \n",
              "8      13000.0      2000.0  803.0  \n",
              "...        ...         ...    ...  \n",
              "19527   1000.0       550.0    NaN  \n",
              "19528    900.0       490.0   48.0  \n",
              "19529   1800.0       800.0   40.0  \n",
              "19530   1400.0       509.0   37.0  \n",
              "19531   3000.0       760.0    NaN  \n",
              "\n",
              "[16819 rows x 9 columns]"
            ],
            "text/html": "<div>\n<style scoped>\n    .dataframe tbody tr th:only-of-type {\n        vertical-align: middle;\n    }\n\n    .dataframe tbody tr th {\n        vertical-align: top;\n    }\n\n    .dataframe thead th {\n        text-align: right;\n    }\n</style>\n<table border=\"1\" class=\"dataframe\">\n  <thead>\n    <tr style=\"text-align: right;\">\n      <th></th>\n      <th>Tipo</th>\n      <th>Bairro</th>\n      <th>Quartos</th>\n      <th>Vagas</th>\n      <th>Suites</th>\n      <th>Area</th>\n      <th>Valor</th>\n      <th>Condominio</th>\n      <th>IPTU</th>\n    </tr>\n  </thead>\n  <tbody>\n    <tr>\n      <th>2</th>\n      <td>Apartamento</td>\n      <td>Vista Alegre</td>\n      <td>3</td>\n      <td>1</td>\n      <td>0</td>\n      <td>70</td>\n      <td>1200.0</td>\n      <td>NaN</td>\n      <td>NaN</td>\n    </tr>\n    <tr>\n      <th>3</th>\n      <td>Apartamento</td>\n      <td>Cachambi</td>\n      <td>2</td>\n      <td>0</td>\n      <td>0</td>\n      <td>50</td>\n      <td>1300.0</td>\n      <td>301.0</td>\n      <td>17.0</td>\n    </tr>\n    <tr>\n      <th>5</th>\n      <td>Apartamento</td>\n      <td>Grajaú</td>\n      <td>2</td>\n      <td>1</td>\n      <td>0</td>\n      <td>70</td>\n      <td>1500.0</td>\n      <td>642.0</td>\n      <td>74.0</td>\n    </tr>\n    <tr>\n      <th>6</th>\n      <td>Apartamento</td>\n      <td>Lins de Vasconcelos</td>\n      <td>3</td>\n      <td>1</td>\n      <td>1</td>\n      <td>90</td>\n      <td>1500.0</td>\n      <td>455.0</td>\n      <td>14.0</td>\n    </tr>\n    <tr>\n      <th>8</th>\n      <td>Apartamento</td>\n      <td>Copacabana</td>\n      <td>4</td>\n      <td>3</td>\n      <td>1</td>\n      <td>243</td>\n      <td>13000.0</td>\n      <td>2000.0</td>\n      <td>803.0</td>\n    </tr>\n    <tr>\n      <th>...</th>\n      <td>...</td>\n      <td>...</td>\n      <td>...</td>\n      <td>...</td>\n      <td>...</td>\n      <td>...</td>\n      <td>...</td>\n      <td>...</td>\n      <td>...</td>\n    </tr>\n    <tr>\n      <th>19527</th>\n      <td>Apartamento</td>\n      <td>Vila Valqueire</td>\n      <td>2</td>\n      <td>0</td>\n      <td>0</td>\n      <td>52</td>\n      <td>1000.0</td>\n      <td>550.0</td>\n      <td>NaN</td>\n    </tr>\n    <tr>\n      <th>19528</th>\n      <td>Apartamento</td>\n      <td>Méier</td>\n      <td>2</td>\n      <td>0</td>\n      <td>0</td>\n      <td>70</td>\n      <td>900.0</td>\n      <td>490.0</td>\n      <td>48.0</td>\n    </tr>\n    <tr>\n      <th>19529</th>\n      <td>Apartamento</td>\n      <td>Jacarepaguá</td>\n      <td>3</td>\n      <td>1</td>\n      <td>2</td>\n      <td>78</td>\n      <td>1800.0</td>\n      <td>800.0</td>\n      <td>40.0</td>\n    </tr>\n    <tr>\n      <th>19530</th>\n      <td>Apartamento</td>\n      <td>São Francisco Xavier</td>\n      <td>2</td>\n      <td>1</td>\n      <td>0</td>\n      <td>48</td>\n      <td>1400.0</td>\n      <td>509.0</td>\n      <td>37.0</td>\n    </tr>\n    <tr>\n      <th>19531</th>\n      <td>Apartamento</td>\n      <td>Leblon</td>\n      <td>2</td>\n      <td>0</td>\n      <td>0</td>\n      <td>70</td>\n      <td>3000.0</td>\n      <td>760.0</td>\n      <td>NaN</td>\n    </tr>\n  </tbody>\n</table>\n<p>16819 rows × 9 columns</p>\n</div>"
          },
          "metadata": {},
          "execution_count": 15
        }
      ]
    },
    {
      "cell_type": "code",
      "metadata": {
        "colab": {
          "base_uri": "https://localhost:8080/",
          "height": 402
        },
        "id": "BuhXm6khFHkn",
        "outputId": "d5f49b0c-9bd3-480d-9e28-88c9b950989c"
      },
      "source": [
        "# Terceira - Apartamentos com valor de IPTU igual ou menor que R$100,00\n",
        "dataframe_aptos.loc[dataframe_aptos[\"IPTU\"] <= 100.00]"
      ],
      "execution_count": 16,
      "outputs": [
        {
          "output_type": "execute_result",
          "data": {
            "text/plain": [
              "              Tipo                Bairro  Quartos  Vagas  Suites  Area  \\\n",
              "0      Apartamento                Centro        1      0       0    15   \n",
              "3      Apartamento              Cachambi        2      0       0    50   \n",
              "5      Apartamento                Grajaú        2      1       0    70   \n",
              "6      Apartamento   Lins de Vasconcelos        3      1       1    90   \n",
              "7      Apartamento            Copacabana        1      0       1    40   \n",
              "...            ...                   ...      ...    ...     ...   ...   \n",
              "19519  Apartamento            Copacabana        1      0       0    50   \n",
              "19526  Apartamento                Tijuca        1      0       0    28   \n",
              "19528  Apartamento                 Méier        2      0       0    70   \n",
              "19529  Apartamento           Jacarepaguá        3      1       2    78   \n",
              "19530  Apartamento  São Francisco Xavier        2      1       0    48   \n",
              "\n",
              "        Valor  Condominio  IPTU  \n",
              "0       800.0       390.0  20.0  \n",
              "3      1300.0       301.0  17.0  \n",
              "5      1500.0       642.0  74.0  \n",
              "6      1500.0       455.0  14.0  \n",
              "7      2000.0       561.0  50.0  \n",
              "...       ...         ...   ...  \n",
              "19519  1950.0       450.0  70.0  \n",
              "19526  1000.0       360.0  25.0  \n",
              "19528   900.0       490.0  48.0  \n",
              "19529  1800.0       800.0  40.0  \n",
              "19530  1400.0       509.0  37.0  \n",
              "\n",
              "[3570 rows x 9 columns]"
            ],
            "text/html": "<div>\n<style scoped>\n    .dataframe tbody tr th:only-of-type {\n        vertical-align: middle;\n    }\n\n    .dataframe tbody tr th {\n        vertical-align: top;\n    }\n\n    .dataframe thead th {\n        text-align: right;\n    }\n</style>\n<table border=\"1\" class=\"dataframe\">\n  <thead>\n    <tr style=\"text-align: right;\">\n      <th></th>\n      <th>Tipo</th>\n      <th>Bairro</th>\n      <th>Quartos</th>\n      <th>Vagas</th>\n      <th>Suites</th>\n      <th>Area</th>\n      <th>Valor</th>\n      <th>Condominio</th>\n      <th>IPTU</th>\n    </tr>\n  </thead>\n  <tbody>\n    <tr>\n      <th>0</th>\n      <td>Apartamento</td>\n      <td>Centro</td>\n      <td>1</td>\n      <td>0</td>\n      <td>0</td>\n      <td>15</td>\n      <td>800.0</td>\n      <td>390.0</td>\n      <td>20.0</td>\n    </tr>\n    <tr>\n      <th>3</th>\n      <td>Apartamento</td>\n      <td>Cachambi</td>\n      <td>2</td>\n      <td>0</td>\n      <td>0</td>\n      <td>50</td>\n      <td>1300.0</td>\n      <td>301.0</td>\n      <td>17.0</td>\n    </tr>\n    <tr>\n      <th>5</th>\n      <td>Apartamento</td>\n      <td>Grajaú</td>\n      <td>2</td>\n      <td>1</td>\n      <td>0</td>\n      <td>70</td>\n      <td>1500.0</td>\n      <td>642.0</td>\n      <td>74.0</td>\n    </tr>\n    <tr>\n      <th>6</th>\n      <td>Apartamento</td>\n      <td>Lins de Vasconcelos</td>\n      <td>3</td>\n      <td>1</td>\n      <td>1</td>\n      <td>90</td>\n      <td>1500.0</td>\n      <td>455.0</td>\n      <td>14.0</td>\n    </tr>\n    <tr>\n      <th>7</th>\n      <td>Apartamento</td>\n      <td>Copacabana</td>\n      <td>1</td>\n      <td>0</td>\n      <td>1</td>\n      <td>40</td>\n      <td>2000.0</td>\n      <td>561.0</td>\n      <td>50.0</td>\n    </tr>\n    <tr>\n      <th>...</th>\n      <td>...</td>\n      <td>...</td>\n      <td>...</td>\n      <td>...</td>\n      <td>...</td>\n      <td>...</td>\n      <td>...</td>\n      <td>...</td>\n      <td>...</td>\n    </tr>\n    <tr>\n      <th>19519</th>\n      <td>Apartamento</td>\n      <td>Copacabana</td>\n      <td>1</td>\n      <td>0</td>\n      <td>0</td>\n      <td>50</td>\n      <td>1950.0</td>\n      <td>450.0</td>\n      <td>70.0</td>\n    </tr>\n    <tr>\n      <th>19526</th>\n      <td>Apartamento</td>\n      <td>Tijuca</td>\n      <td>1</td>\n      <td>0</td>\n      <td>0</td>\n      <td>28</td>\n      <td>1000.0</td>\n      <td>360.0</td>\n      <td>25.0</td>\n    </tr>\n    <tr>\n      <th>19528</th>\n      <td>Apartamento</td>\n      <td>Méier</td>\n      <td>2</td>\n      <td>0</td>\n      <td>0</td>\n      <td>70</td>\n      <td>900.0</td>\n      <td>490.0</td>\n      <td>48.0</td>\n    </tr>\n    <tr>\n      <th>19529</th>\n      <td>Apartamento</td>\n      <td>Jacarepaguá</td>\n      <td>3</td>\n      <td>1</td>\n      <td>2</td>\n      <td>78</td>\n      <td>1800.0</td>\n      <td>800.0</td>\n      <td>40.0</td>\n    </tr>\n    <tr>\n      <th>19530</th>\n      <td>Apartamento</td>\n      <td>São Francisco Xavier</td>\n      <td>2</td>\n      <td>1</td>\n      <td>0</td>\n      <td>48</td>\n      <td>1400.0</td>\n      <td>509.0</td>\n      <td>37.0</td>\n    </tr>\n  </tbody>\n</table>\n<p>3570 rows × 9 columns</p>\n</div>"
          },
          "metadata": {},
          "execution_count": 16
        }
      ]
    },
    {
      "cell_type": "code",
      "metadata": {
        "colab": {
          "base_uri": "https://localhost:8080/",
          "height": 402
        },
        "id": "62ZUuBg7Ffdh",
        "outputId": "c6382880-6a28-4dc3-e3f6-357accc56ca2"
      },
      "source": [
        "# Quarta - Apartamentos com 2 quartos ou mais, com aluguel menor que R$1.000,00\n",
        "dataframe_aptos.loc[((dataframe_aptos[\"Quartos\"] >= 2) & (dataframe_aptos[\"Valor\"] <= 1000.00))]"
      ],
      "execution_count": 17,
      "outputs": [
        {
          "output_type": "execute_result",
          "data": {
            "text/plain": [
              "              Tipo                   Bairro  Quartos  Vagas  Suites  Area  \\\n",
              "9      Apartamento  Freguesia (Jacarepaguá)        3      0       0    54   \n",
              "12     Apartamento                   Olaria        3      1       0    68   \n",
              "48     Apartamento                 Cachambi        2      0       0    60   \n",
              "52     Apartamento           Vila Valqueire        2      1       0    45   \n",
              "64     Apartamento                Itanhangá        2      1       0    60   \n",
              "...            ...                      ...      ...    ...     ...   ...   \n",
              "19491  Apartamento                    Irajá        2      1       0    50   \n",
              "19512  Apartamento                 Campinho        2      0       0    63   \n",
              "19513  Apartamento  Freguesia (Jacarepaguá)        2      1       0    60   \n",
              "19527  Apartamento           Vila Valqueire        2      0       0    52   \n",
              "19528  Apartamento                    Méier        2      0       0    70   \n",
              "\n",
              "        Valor  Condominio   IPTU  \n",
              "9       950.0       300.0   28.0  \n",
              "12     1000.0       670.0    NaN  \n",
              "48     1000.0       380.0  280.0  \n",
              "52      800.0       280.0   14.0  \n",
              "64     1000.0       450.0  150.0  \n",
              "...       ...         ...    ...  \n",
              "19491   900.0       300.0    NaN  \n",
              "19512   800.0       392.0    NaN  \n",
              "19513   500.0       900.0  148.0  \n",
              "19527  1000.0       550.0    NaN  \n",
              "19528   900.0       490.0   48.0  \n",
              "\n",
              "[1211 rows x 9 columns]"
            ],
            "text/html": "<div>\n<style scoped>\n    .dataframe tbody tr th:only-of-type {\n        vertical-align: middle;\n    }\n\n    .dataframe tbody tr th {\n        vertical-align: top;\n    }\n\n    .dataframe thead th {\n        text-align: right;\n    }\n</style>\n<table border=\"1\" class=\"dataframe\">\n  <thead>\n    <tr style=\"text-align: right;\">\n      <th></th>\n      <th>Tipo</th>\n      <th>Bairro</th>\n      <th>Quartos</th>\n      <th>Vagas</th>\n      <th>Suites</th>\n      <th>Area</th>\n      <th>Valor</th>\n      <th>Condominio</th>\n      <th>IPTU</th>\n    </tr>\n  </thead>\n  <tbody>\n    <tr>\n      <th>9</th>\n      <td>Apartamento</td>\n      <td>Freguesia (Jacarepaguá)</td>\n      <td>3</td>\n      <td>0</td>\n      <td>0</td>\n      <td>54</td>\n      <td>950.0</td>\n      <td>300.0</td>\n      <td>28.0</td>\n    </tr>\n    <tr>\n      <th>12</th>\n      <td>Apartamento</td>\n      <td>Olaria</td>\n      <td>3</td>\n      <td>1</td>\n      <td>0</td>\n      <td>68</td>\n      <td>1000.0</td>\n      <td>670.0</td>\n      <td>NaN</td>\n    </tr>\n    <tr>\n      <th>48</th>\n      <td>Apartamento</td>\n      <td>Cachambi</td>\n      <td>2</td>\n      <td>0</td>\n      <td>0</td>\n      <td>60</td>\n      <td>1000.0</td>\n      <td>380.0</td>\n      <td>280.0</td>\n    </tr>\n    <tr>\n      <th>52</th>\n      <td>Apartamento</td>\n      <td>Vila Valqueire</td>\n      <td>2</td>\n      <td>1</td>\n      <td>0</td>\n      <td>45</td>\n      <td>800.0</td>\n      <td>280.0</td>\n      <td>14.0</td>\n    </tr>\n    <tr>\n      <th>64</th>\n      <td>Apartamento</td>\n      <td>Itanhangá</td>\n      <td>2</td>\n      <td>1</td>\n      <td>0</td>\n      <td>60</td>\n      <td>1000.0</td>\n      <td>450.0</td>\n      <td>150.0</td>\n    </tr>\n    <tr>\n      <th>...</th>\n      <td>...</td>\n      <td>...</td>\n      <td>...</td>\n      <td>...</td>\n      <td>...</td>\n      <td>...</td>\n      <td>...</td>\n      <td>...</td>\n      <td>...</td>\n    </tr>\n    <tr>\n      <th>19491</th>\n      <td>Apartamento</td>\n      <td>Irajá</td>\n      <td>2</td>\n      <td>1</td>\n      <td>0</td>\n      <td>50</td>\n      <td>900.0</td>\n      <td>300.0</td>\n      <td>NaN</td>\n    </tr>\n    <tr>\n      <th>19512</th>\n      <td>Apartamento</td>\n      <td>Campinho</td>\n      <td>2</td>\n      <td>0</td>\n      <td>0</td>\n      <td>63</td>\n      <td>800.0</td>\n      <td>392.0</td>\n      <td>NaN</td>\n    </tr>\n    <tr>\n      <th>19513</th>\n      <td>Apartamento</td>\n      <td>Freguesia (Jacarepaguá)</td>\n      <td>2</td>\n      <td>1</td>\n      <td>0</td>\n      <td>60</td>\n      <td>500.0</td>\n      <td>900.0</td>\n      <td>148.0</td>\n    </tr>\n    <tr>\n      <th>19527</th>\n      <td>Apartamento</td>\n      <td>Vila Valqueire</td>\n      <td>2</td>\n      <td>0</td>\n      <td>0</td>\n      <td>52</td>\n      <td>1000.0</td>\n      <td>550.0</td>\n      <td>NaN</td>\n    </tr>\n    <tr>\n      <th>19528</th>\n      <td>Apartamento</td>\n      <td>Méier</td>\n      <td>2</td>\n      <td>0</td>\n      <td>0</td>\n      <td>70</td>\n      <td>900.0</td>\n      <td>490.0</td>\n      <td>48.0</td>\n    </tr>\n  </tbody>\n</table>\n<p>1211 rows × 9 columns</p>\n</div>"
          },
          "metadata": {},
          "execution_count": 17
        }
      ]
    },
    {
      "cell_type": "code",
      "metadata": {
        "colab": {
          "base_uri": "https://localhost:8080/",
          "height": 402
        },
        "id": "29oZ9HKaGVMR",
        "outputId": "bebdb3c7-1e61-4397-adcd-bb7313167f5b"
      },
      "source": [
        "#Quinta - Apartamentos em ordem do maior para menor valor de condomínio\n",
        "dataframe_aptos.sort_values(by=['Condominio'],ascending=False)"
      ],
      "execution_count": 18,
      "outputs": [
        {
          "output_type": "execute_result",
          "data": {
            "text/plain": [
              "              Tipo               Bairro  Quartos  Vagas  Suites  Area   Valor  \\\n",
              "10616  Apartamento      Barra da Tijuca        2      1       1   104  3800.0   \n",
              "12820  Apartamento  Lins de Vasconcelos        2      1       0    78  1200.0   \n",
              "4699   Apartamento      Barra da Tijuca        4      2       2   115  3900.0   \n",
              "5274   Apartamento     Jardim Guanabara        2      1       0    65  1600.0   \n",
              "18209  Apartamento         Engenho Novo        2      1       0    50  1000.0   \n",
              "...            ...                  ...      ...    ...     ...   ...     ...   \n",
              "19318  Apartamento           Copacabana        3      0       0   130  4600.0   \n",
              "19343  Apartamento            Guadalupe        1      0       0    40   550.0   \n",
              "19357  Apartamento           Bonsucesso        1      0       0    60  1000.0   \n",
              "19384  Apartamento             Flamengo        2      0       0    59  3500.0   \n",
              "19442  Apartamento            Cascadura        3      0       1    70  1200.0   \n",
              "\n",
              "       Condominio   IPTU  \n",
              "10616   6552570.0  655.0  \n",
              "12820    519000.0  135.0  \n",
              "4699     129880.0  358.0  \n",
              "5274      50500.0   97.0  \n",
              "18209     43593.0    NaN  \n",
              "...           ...    ...  \n",
              "19318         NaN    NaN  \n",
              "19343         NaN    NaN  \n",
              "19357         NaN    NaN  \n",
              "19384         NaN    NaN  \n",
              "19442         NaN    NaN  \n",
              "\n",
              "[19532 rows x 9 columns]"
            ],
            "text/html": "<div>\n<style scoped>\n    .dataframe tbody tr th:only-of-type {\n        vertical-align: middle;\n    }\n\n    .dataframe tbody tr th {\n        vertical-align: top;\n    }\n\n    .dataframe thead th {\n        text-align: right;\n    }\n</style>\n<table border=\"1\" class=\"dataframe\">\n  <thead>\n    <tr style=\"text-align: right;\">\n      <th></th>\n      <th>Tipo</th>\n      <th>Bairro</th>\n      <th>Quartos</th>\n      <th>Vagas</th>\n      <th>Suites</th>\n      <th>Area</th>\n      <th>Valor</th>\n      <th>Condominio</th>\n      <th>IPTU</th>\n    </tr>\n  </thead>\n  <tbody>\n    <tr>\n      <th>10616</th>\n      <td>Apartamento</td>\n      <td>Barra da Tijuca</td>\n      <td>2</td>\n      <td>1</td>\n      <td>1</td>\n      <td>104</td>\n      <td>3800.0</td>\n      <td>6552570.0</td>\n      <td>655.0</td>\n    </tr>\n    <tr>\n      <th>12820</th>\n      <td>Apartamento</td>\n      <td>Lins de Vasconcelos</td>\n      <td>2</td>\n      <td>1</td>\n      <td>0</td>\n      <td>78</td>\n      <td>1200.0</td>\n      <td>519000.0</td>\n      <td>135.0</td>\n    </tr>\n    <tr>\n      <th>4699</th>\n      <td>Apartamento</td>\n      <td>Barra da Tijuca</td>\n      <td>4</td>\n      <td>2</td>\n      <td>2</td>\n      <td>115</td>\n      <td>3900.0</td>\n      <td>129880.0</td>\n      <td>358.0</td>\n    </tr>\n    <tr>\n      <th>5274</th>\n      <td>Apartamento</td>\n      <td>Jardim Guanabara</td>\n      <td>2</td>\n      <td>1</td>\n      <td>0</td>\n      <td>65</td>\n      <td>1600.0</td>\n      <td>50500.0</td>\n      <td>97.0</td>\n    </tr>\n    <tr>\n      <th>18209</th>\n      <td>Apartamento</td>\n      <td>Engenho Novo</td>\n      <td>2</td>\n      <td>1</td>\n      <td>0</td>\n      <td>50</td>\n      <td>1000.0</td>\n      <td>43593.0</td>\n      <td>NaN</td>\n    </tr>\n    <tr>\n      <th>...</th>\n      <td>...</td>\n      <td>...</td>\n      <td>...</td>\n      <td>...</td>\n      <td>...</td>\n      <td>...</td>\n      <td>...</td>\n      <td>...</td>\n      <td>...</td>\n    </tr>\n    <tr>\n      <th>19318</th>\n      <td>Apartamento</td>\n      <td>Copacabana</td>\n      <td>3</td>\n      <td>0</td>\n      <td>0</td>\n      <td>130</td>\n      <td>4600.0</td>\n      <td>NaN</td>\n      <td>NaN</td>\n    </tr>\n    <tr>\n      <th>19343</th>\n      <td>Apartamento</td>\n      <td>Guadalupe</td>\n      <td>1</td>\n      <td>0</td>\n      <td>0</td>\n      <td>40</td>\n      <td>550.0</td>\n      <td>NaN</td>\n      <td>NaN</td>\n    </tr>\n    <tr>\n      <th>19357</th>\n      <td>Apartamento</td>\n      <td>Bonsucesso</td>\n      <td>1</td>\n      <td>0</td>\n      <td>0</td>\n      <td>60</td>\n      <td>1000.0</td>\n      <td>NaN</td>\n      <td>NaN</td>\n    </tr>\n    <tr>\n      <th>19384</th>\n      <td>Apartamento</td>\n      <td>Flamengo</td>\n      <td>2</td>\n      <td>0</td>\n      <td>0</td>\n      <td>59</td>\n      <td>3500.0</td>\n      <td>NaN</td>\n      <td>NaN</td>\n    </tr>\n    <tr>\n      <th>19442</th>\n      <td>Apartamento</td>\n      <td>Cascadura</td>\n      <td>3</td>\n      <td>0</td>\n      <td>1</td>\n      <td>70</td>\n      <td>1200.0</td>\n      <td>NaN</td>\n      <td>NaN</td>\n    </tr>\n  </tbody>\n</table>\n<p>19532 rows × 9 columns</p>\n</div>"
          },
          "metadata": {},
          "execution_count": 18
        }
      ]
    },
    {
      "cell_type": "markdown",
      "metadata": {
        "id": "wlnxF__RICau"
      },
      "source": [
        "#3. Chame o método info() para o novo dataframe, para que seja possível verificar quais atributos possuem dados faltantes. Para cada atributo com dados faltante gere um dataframe para exibi-los (utilize o método isnull())."
      ]
    },
    {
      "cell_type": "code",
      "metadata": {
        "colab": {
          "base_uri": "https://localhost:8080/"
        },
        "id": "LGITFSbVHIUf",
        "outputId": "d72f129d-cdd6-44cd-f79c-ff59e3881aaa"
      },
      "source": [
        "#Mostrando informações sobre as colunas para descobrir quais colunas possuem valores zerados\n",
        "dataframe_aptos.info()"
      ],
      "execution_count": 19,
      "outputs": [
        {
          "output_type": "stream",
          "name": "stdout",
          "text": [
            "<class 'pandas.core.frame.DataFrame'>\nInt64Index: 19532 entries, 0 to 19531\nData columns (total 9 columns):\n #   Column      Non-Null Count  Dtype  \n---  ------      --------------  -----  \n 0   Tipo        19532 non-null  object \n 1   Bairro      19532 non-null  object \n 2   Quartos     19532 non-null  int64  \n 3   Vagas       19532 non-null  int64  \n 4   Suites      19532 non-null  int64  \n 5   Area        19532 non-null  int64  \n 6   Valor       19525 non-null  float64\n 7   Condominio  18787 non-null  float64\n 8   IPTU        14060 non-null  float64\ndtypes: float64(3), int64(4), object(2)\nmemory usage: 1.5+ MB\n"
          ]
        }
      ]
    },
    {
      "cell_type": "code",
      "metadata": {
        "colab": {
          "base_uri": "https://localhost:8080/",
          "height": 254
        },
        "id": "F7_tMlXBF_oE",
        "outputId": "a461f9d6-1bd9-4b95-b177-a5d65d123c87"
      },
      "source": [
        "#Montando um dataframe com as linhas em que o Valor do Aluguel é nulo\n",
        "dataframe_aptos_valor_null = dataframe_aptos[dataframe_aptos['Valor'].isnull()]\n",
        "dataframe_aptos_valor_null"
      ],
      "execution_count": 20,
      "outputs": [
        {
          "output_type": "execute_result",
          "data": {
            "text/plain": [
              "             Tipo           Bairro  Quartos  Vagas  Suites  Area  Valor  \\\n",
              "47    Apartamento  Barra da Tijuca        2      1       1    70    NaN   \n",
              "1287  Apartamento             Leme        2      0       0    75    NaN   \n",
              "1743  Apartamento         Botafogo        2      0       0    95    NaN   \n",
              "1764  Apartamento       Copacabana        2      0       0    72    NaN   \n",
              "7440  Apartamento             Leme        2      0       1    75    NaN   \n",
              "7780  Apartamento           Glória        3      0       1   135    NaN   \n",
              "7950  Apartamento            Gávea        3      1       1   105    NaN   \n",
              "\n",
              "      Condominio   IPTU  \n",
              "47         970.0   68.0  \n",
              "1287       878.0    NaN  \n",
              "1743      1010.0  170.0  \n",
              "1764       850.0    NaN  \n",
              "7440       878.0    NaN  \n",
              "7780       910.0  228.0  \n",
              "7950       880.0  221.0  "
            ],
            "text/html": "<div>\n<style scoped>\n    .dataframe tbody tr th:only-of-type {\n        vertical-align: middle;\n    }\n\n    .dataframe tbody tr th {\n        vertical-align: top;\n    }\n\n    .dataframe thead th {\n        text-align: right;\n    }\n</style>\n<table border=\"1\" class=\"dataframe\">\n  <thead>\n    <tr style=\"text-align: right;\">\n      <th></th>\n      <th>Tipo</th>\n      <th>Bairro</th>\n      <th>Quartos</th>\n      <th>Vagas</th>\n      <th>Suites</th>\n      <th>Area</th>\n      <th>Valor</th>\n      <th>Condominio</th>\n      <th>IPTU</th>\n    </tr>\n  </thead>\n  <tbody>\n    <tr>\n      <th>47</th>\n      <td>Apartamento</td>\n      <td>Barra da Tijuca</td>\n      <td>2</td>\n      <td>1</td>\n      <td>1</td>\n      <td>70</td>\n      <td>NaN</td>\n      <td>970.0</td>\n      <td>68.0</td>\n    </tr>\n    <tr>\n      <th>1287</th>\n      <td>Apartamento</td>\n      <td>Leme</td>\n      <td>2</td>\n      <td>0</td>\n      <td>0</td>\n      <td>75</td>\n      <td>NaN</td>\n      <td>878.0</td>\n      <td>NaN</td>\n    </tr>\n    <tr>\n      <th>1743</th>\n      <td>Apartamento</td>\n      <td>Botafogo</td>\n      <td>2</td>\n      <td>0</td>\n      <td>0</td>\n      <td>95</td>\n      <td>NaN</td>\n      <td>1010.0</td>\n      <td>170.0</td>\n    </tr>\n    <tr>\n      <th>1764</th>\n      <td>Apartamento</td>\n      <td>Copacabana</td>\n      <td>2</td>\n      <td>0</td>\n      <td>0</td>\n      <td>72</td>\n      <td>NaN</td>\n      <td>850.0</td>\n      <td>NaN</td>\n    </tr>\n    <tr>\n      <th>7440</th>\n      <td>Apartamento</td>\n      <td>Leme</td>\n      <td>2</td>\n      <td>0</td>\n      <td>1</td>\n      <td>75</td>\n      <td>NaN</td>\n      <td>878.0</td>\n      <td>NaN</td>\n    </tr>\n    <tr>\n      <th>7780</th>\n      <td>Apartamento</td>\n      <td>Glória</td>\n      <td>3</td>\n      <td>0</td>\n      <td>1</td>\n      <td>135</td>\n      <td>NaN</td>\n      <td>910.0</td>\n      <td>228.0</td>\n    </tr>\n    <tr>\n      <th>7950</th>\n      <td>Apartamento</td>\n      <td>Gávea</td>\n      <td>3</td>\n      <td>1</td>\n      <td>1</td>\n      <td>105</td>\n      <td>NaN</td>\n      <td>880.0</td>\n      <td>221.0</td>\n    </tr>\n  </tbody>\n</table>\n</div>"
          },
          "metadata": {},
          "execution_count": 20
        }
      ]
    },
    {
      "cell_type": "code",
      "metadata": {
        "colab": {
          "base_uri": "https://localhost:8080/",
          "height": 402
        },
        "id": "84FFThM7IU4F",
        "outputId": "b3086fd0-a952-40d6-98e9-0f3e3615c31d"
      },
      "source": [
        "#Montando um dataframe com as linhas em que o Valor do Condomínio é nulo\n",
        "dataframe_aptos_condominio_null = dataframe_aptos[dataframe_aptos['Condominio'].isnull()]\n",
        "dataframe_aptos_condominio_null"
      ],
      "execution_count": 21,
      "outputs": [
        {
          "output_type": "execute_result",
          "data": {
            "text/plain": [
              "              Tipo           Bairro  Quartos  Vagas  Suites  Area   Valor  \\\n",
              "2      Apartamento     Vista Alegre        3      1       0    70  1200.0   \n",
              "4      Apartamento           Centro        1      0       0    36  1200.0   \n",
              "68     Apartamento       Praça Seca        2      0       0    80  1000.0   \n",
              "97     Apartamento    Rocha Miranda        2      1       0    50  1100.0   \n",
              "112    Apartamento  Barra da Tijuca        1      1       1    65  2350.0   \n",
              "...            ...              ...      ...    ...     ...   ...     ...   \n",
              "19318  Apartamento       Copacabana        3      0       0   130  4600.0   \n",
              "19343  Apartamento        Guadalupe        1      0       0    40   550.0   \n",
              "19357  Apartamento       Bonsucesso        1      0       0    60  1000.0   \n",
              "19384  Apartamento         Flamengo        2      0       0    59  3500.0   \n",
              "19442  Apartamento        Cascadura        3      0       1    70  1200.0   \n",
              "\n",
              "       Condominio  IPTU  \n",
              "2             NaN   NaN  \n",
              "4             NaN   NaN  \n",
              "68            NaN   NaN  \n",
              "97            NaN   NaN  \n",
              "112           NaN   NaN  \n",
              "...           ...   ...  \n",
              "19318         NaN   NaN  \n",
              "19343         NaN   NaN  \n",
              "19357         NaN   NaN  \n",
              "19384         NaN   NaN  \n",
              "19442         NaN   NaN  \n",
              "\n",
              "[745 rows x 9 columns]"
            ],
            "text/html": "<div>\n<style scoped>\n    .dataframe tbody tr th:only-of-type {\n        vertical-align: middle;\n    }\n\n    .dataframe tbody tr th {\n        vertical-align: top;\n    }\n\n    .dataframe thead th {\n        text-align: right;\n    }\n</style>\n<table border=\"1\" class=\"dataframe\">\n  <thead>\n    <tr style=\"text-align: right;\">\n      <th></th>\n      <th>Tipo</th>\n      <th>Bairro</th>\n      <th>Quartos</th>\n      <th>Vagas</th>\n      <th>Suites</th>\n      <th>Area</th>\n      <th>Valor</th>\n      <th>Condominio</th>\n      <th>IPTU</th>\n    </tr>\n  </thead>\n  <tbody>\n    <tr>\n      <th>2</th>\n      <td>Apartamento</td>\n      <td>Vista Alegre</td>\n      <td>3</td>\n      <td>1</td>\n      <td>0</td>\n      <td>70</td>\n      <td>1200.0</td>\n      <td>NaN</td>\n      <td>NaN</td>\n    </tr>\n    <tr>\n      <th>4</th>\n      <td>Apartamento</td>\n      <td>Centro</td>\n      <td>1</td>\n      <td>0</td>\n      <td>0</td>\n      <td>36</td>\n      <td>1200.0</td>\n      <td>NaN</td>\n      <td>NaN</td>\n    </tr>\n    <tr>\n      <th>68</th>\n      <td>Apartamento</td>\n      <td>Praça Seca</td>\n      <td>2</td>\n      <td>0</td>\n      <td>0</td>\n      <td>80</td>\n      <td>1000.0</td>\n      <td>NaN</td>\n      <td>NaN</td>\n    </tr>\n    <tr>\n      <th>97</th>\n      <td>Apartamento</td>\n      <td>Rocha Miranda</td>\n      <td>2</td>\n      <td>1</td>\n      <td>0</td>\n      <td>50</td>\n      <td>1100.0</td>\n      <td>NaN</td>\n      <td>NaN</td>\n    </tr>\n    <tr>\n      <th>112</th>\n      <td>Apartamento</td>\n      <td>Barra da Tijuca</td>\n      <td>1</td>\n      <td>1</td>\n      <td>1</td>\n      <td>65</td>\n      <td>2350.0</td>\n      <td>NaN</td>\n      <td>NaN</td>\n    </tr>\n    <tr>\n      <th>...</th>\n      <td>...</td>\n      <td>...</td>\n      <td>...</td>\n      <td>...</td>\n      <td>...</td>\n      <td>...</td>\n      <td>...</td>\n      <td>...</td>\n      <td>...</td>\n    </tr>\n    <tr>\n      <th>19318</th>\n      <td>Apartamento</td>\n      <td>Copacabana</td>\n      <td>3</td>\n      <td>0</td>\n      <td>0</td>\n      <td>130</td>\n      <td>4600.0</td>\n      <td>NaN</td>\n      <td>NaN</td>\n    </tr>\n    <tr>\n      <th>19343</th>\n      <td>Apartamento</td>\n      <td>Guadalupe</td>\n      <td>1</td>\n      <td>0</td>\n      <td>0</td>\n      <td>40</td>\n      <td>550.0</td>\n      <td>NaN</td>\n      <td>NaN</td>\n    </tr>\n    <tr>\n      <th>19357</th>\n      <td>Apartamento</td>\n      <td>Bonsucesso</td>\n      <td>1</td>\n      <td>0</td>\n      <td>0</td>\n      <td>60</td>\n      <td>1000.0</td>\n      <td>NaN</td>\n      <td>NaN</td>\n    </tr>\n    <tr>\n      <th>19384</th>\n      <td>Apartamento</td>\n      <td>Flamengo</td>\n      <td>2</td>\n      <td>0</td>\n      <td>0</td>\n      <td>59</td>\n      <td>3500.0</td>\n      <td>NaN</td>\n      <td>NaN</td>\n    </tr>\n    <tr>\n      <th>19442</th>\n      <td>Apartamento</td>\n      <td>Cascadura</td>\n      <td>3</td>\n      <td>0</td>\n      <td>1</td>\n      <td>70</td>\n      <td>1200.0</td>\n      <td>NaN</td>\n      <td>NaN</td>\n    </tr>\n  </tbody>\n</table>\n<p>745 rows × 9 columns</p>\n</div>"
          },
          "metadata": {},
          "execution_count": 21
        }
      ]
    },
    {
      "cell_type": "code",
      "metadata": {
        "colab": {
          "base_uri": "https://localhost:8080/",
          "height": 402
        },
        "id": "5oWrIZrsIt28",
        "outputId": "7e2fb5d7-8440-400f-80ab-d6866e2d4307"
      },
      "source": [
        "#Montando um dataframe com as linhas em que o Valor do IPTU é nulo\n",
        "dataframe_aptos_IPTU_null = dataframe_aptos[dataframe_aptos['IPTU'].isnull()]\n",
        "dataframe_aptos_IPTU_null"
      ],
      "execution_count": 22,
      "outputs": [
        {
          "output_type": "execute_result",
          "data": {
            "text/plain": [
              "              Tipo                    Bairro  Quartos  Vagas  Suites  Area  \\\n",
              "1      Apartamento              Higienópolis        1      0       0    48   \n",
              "2      Apartamento              Vista Alegre        3      1       0    70   \n",
              "4      Apartamento                    Centro        1      0       0    36   \n",
              "12     Apartamento                    Olaria        3      1       0    68   \n",
              "13     Apartamento                    Tijuca        2      1       0    78   \n",
              "...            ...                       ...      ...    ...     ...   ...   \n",
              "19505  Apartamento                  Flamengo        1      0       0    48   \n",
              "19512  Apartamento                  Campinho        2      0       0    63   \n",
              "19523  Apartamento  Recreio dos Bandeirantes        3      2       1    88   \n",
              "19527  Apartamento            Vila Valqueire        2      0       0    52   \n",
              "19531  Apartamento                    Leblon        2      0       0    70   \n",
              "\n",
              "        Valor  Condominio  IPTU  \n",
              "1       800.0       230.0   NaN  \n",
              "2      1200.0         NaN   NaN  \n",
              "4      1200.0         NaN   NaN  \n",
              "12     1000.0       670.0   NaN  \n",
              "13     2000.0       700.0   NaN  \n",
              "...       ...         ...   ...  \n",
              "19505  2200.0       478.0   NaN  \n",
              "19512   800.0       392.0   NaN  \n",
              "19523  1550.0       790.0   NaN  \n",
              "19527  1000.0       550.0   NaN  \n",
              "19531  3000.0       760.0   NaN  \n",
              "\n",
              "[5472 rows x 9 columns]"
            ],
            "text/html": "<div>\n<style scoped>\n    .dataframe tbody tr th:only-of-type {\n        vertical-align: middle;\n    }\n\n    .dataframe tbody tr th {\n        vertical-align: top;\n    }\n\n    .dataframe thead th {\n        text-align: right;\n    }\n</style>\n<table border=\"1\" class=\"dataframe\">\n  <thead>\n    <tr style=\"text-align: right;\">\n      <th></th>\n      <th>Tipo</th>\n      <th>Bairro</th>\n      <th>Quartos</th>\n      <th>Vagas</th>\n      <th>Suites</th>\n      <th>Area</th>\n      <th>Valor</th>\n      <th>Condominio</th>\n      <th>IPTU</th>\n    </tr>\n  </thead>\n  <tbody>\n    <tr>\n      <th>1</th>\n      <td>Apartamento</td>\n      <td>Higienópolis</td>\n      <td>1</td>\n      <td>0</td>\n      <td>0</td>\n      <td>48</td>\n      <td>800.0</td>\n      <td>230.0</td>\n      <td>NaN</td>\n    </tr>\n    <tr>\n      <th>2</th>\n      <td>Apartamento</td>\n      <td>Vista Alegre</td>\n      <td>3</td>\n      <td>1</td>\n      <td>0</td>\n      <td>70</td>\n      <td>1200.0</td>\n      <td>NaN</td>\n      <td>NaN</td>\n    </tr>\n    <tr>\n      <th>4</th>\n      <td>Apartamento</td>\n      <td>Centro</td>\n      <td>1</td>\n      <td>0</td>\n      <td>0</td>\n      <td>36</td>\n      <td>1200.0</td>\n      <td>NaN</td>\n      <td>NaN</td>\n    </tr>\n    <tr>\n      <th>12</th>\n      <td>Apartamento</td>\n      <td>Olaria</td>\n      <td>3</td>\n      <td>1</td>\n      <td>0</td>\n      <td>68</td>\n      <td>1000.0</td>\n      <td>670.0</td>\n      <td>NaN</td>\n    </tr>\n    <tr>\n      <th>13</th>\n      <td>Apartamento</td>\n      <td>Tijuca</td>\n      <td>2</td>\n      <td>1</td>\n      <td>0</td>\n      <td>78</td>\n      <td>2000.0</td>\n      <td>700.0</td>\n      <td>NaN</td>\n    </tr>\n    <tr>\n      <th>...</th>\n      <td>...</td>\n      <td>...</td>\n      <td>...</td>\n      <td>...</td>\n      <td>...</td>\n      <td>...</td>\n      <td>...</td>\n      <td>...</td>\n      <td>...</td>\n    </tr>\n    <tr>\n      <th>19505</th>\n      <td>Apartamento</td>\n      <td>Flamengo</td>\n      <td>1</td>\n      <td>0</td>\n      <td>0</td>\n      <td>48</td>\n      <td>2200.0</td>\n      <td>478.0</td>\n      <td>NaN</td>\n    </tr>\n    <tr>\n      <th>19512</th>\n      <td>Apartamento</td>\n      <td>Campinho</td>\n      <td>2</td>\n      <td>0</td>\n      <td>0</td>\n      <td>63</td>\n      <td>800.0</td>\n      <td>392.0</td>\n      <td>NaN</td>\n    </tr>\n    <tr>\n      <th>19523</th>\n      <td>Apartamento</td>\n      <td>Recreio dos Bandeirantes</td>\n      <td>3</td>\n      <td>2</td>\n      <td>1</td>\n      <td>88</td>\n      <td>1550.0</td>\n      <td>790.0</td>\n      <td>NaN</td>\n    </tr>\n    <tr>\n      <th>19527</th>\n      <td>Apartamento</td>\n      <td>Vila Valqueire</td>\n      <td>2</td>\n      <td>0</td>\n      <td>0</td>\n      <td>52</td>\n      <td>1000.0</td>\n      <td>550.0</td>\n      <td>NaN</td>\n    </tr>\n    <tr>\n      <th>19531</th>\n      <td>Apartamento</td>\n      <td>Leblon</td>\n      <td>2</td>\n      <td>0</td>\n      <td>0</td>\n      <td>70</td>\n      <td>3000.0</td>\n      <td>760.0</td>\n      <td>NaN</td>\n    </tr>\n  </tbody>\n</table>\n<p>5472 rows × 9 columns</p>\n</div>"
          },
          "metadata": {},
          "execution_count": 22
        }
      ]
    },
    {
      "cell_type": "markdown",
      "metadata": {
        "id": "m76WU_kvKDG_"
      },
      "source": [
        "#4. Para cada dado faltante analise se eles podem ser removidos ou preenchidos com algum valor. Trate os dados faltantes e justifique o tratamento feito. \n",
        "Estratégia: Os dados faltantes foram de valor do aluguel, valor do condomínio, e valor do IPTU. Como tais valores possuem relação com fatores relacionados à área do apartamento e até à localização do mesmo, ficaria muito difícil determinar valores a substituir. Com isso em vista, e sabendo que mesmo que os registros com valores faltantes sejam removidos, ainda sobrariam bastantes valores, optou-se remover os registros com valores faltantes."
      ]
    },
    {
      "cell_type": "code",
      "metadata": {
        "colab": {
          "base_uri": "https://localhost:8080/",
          "height": 654
        },
        "id": "int4CBJrFZWU",
        "outputId": "33d7e157-3d08-4c14-8841-e040631de0a8"
      },
      "source": [
        "dataframe_aptos.dropna(subset=['Valor'], inplace=True)\n",
        "dataframe_aptos.dropna(subset=['Condominio'], inplace=True)\n",
        "dataframe_aptos.dropna(subset=['IPTU'], inplace=True)\n",
        "dataframe_aptos"
      ],
      "execution_count": 23,
      "outputs": [
        {
          "output_type": "stream",
          "name": "stderr",
          "text": [
            "<ipython-input-23-e2ede91f8f5b>:1: SettingWithCopyWarning: \nA value is trying to be set on a copy of a slice from a DataFrame\n\nSee the caveats in the documentation: https://pandas.pydata.org/pandas-docs/stable/user_guide/indexing.html#returning-a-view-versus-a-copy\n  dataframe_aptos.dropna(subset=['Valor'], inplace=True)\n<ipython-input-23-e2ede91f8f5b>:2: SettingWithCopyWarning: \nA value is trying to be set on a copy of a slice from a DataFrame\n\nSee the caveats in the documentation: https://pandas.pydata.org/pandas-docs/stable/user_guide/indexing.html#returning-a-view-versus-a-copy\n  dataframe_aptos.dropna(subset=['Condominio'], inplace=True)\n<ipython-input-23-e2ede91f8f5b>:3: SettingWithCopyWarning: \nA value is trying to be set on a copy of a slice from a DataFrame\n\nSee the caveats in the documentation: https://pandas.pydata.org/pandas-docs/stable/user_guide/indexing.html#returning-a-view-versus-a-copy\n  dataframe_aptos.dropna(subset=['IPTU'], inplace=True)\n"
          ]
        },
        {
          "output_type": "execute_result",
          "data": {
            "text/plain": [
              "              Tipo                Bairro  Quartos  Vagas  Suites  Area  \\\n",
              "0      Apartamento                Centro        1      0       0    15   \n",
              "3      Apartamento              Cachambi        2      0       0    50   \n",
              "5      Apartamento                Grajaú        2      1       0    70   \n",
              "6      Apartamento   Lins de Vasconcelos        3      1       1    90   \n",
              "7      Apartamento            Copacabana        1      0       1    40   \n",
              "...            ...                   ...      ...    ...     ...   ...   \n",
              "19525  Apartamento               Ipanema        3      1       2   150   \n",
              "19526  Apartamento                Tijuca        1      0       0    28   \n",
              "19528  Apartamento                 Méier        2      0       0    70   \n",
              "19529  Apartamento           Jacarepaguá        3      1       2    78   \n",
              "19530  Apartamento  São Francisco Xavier        2      1       0    48   \n",
              "\n",
              "         Valor  Condominio   IPTU  \n",
              "0        800.0       390.0   20.0  \n",
              "3       1300.0       301.0   17.0  \n",
              "5       1500.0       642.0   74.0  \n",
              "6       1500.0       455.0   14.0  \n",
              "7       2000.0       561.0   50.0  \n",
              "...        ...         ...    ...  \n",
              "19525  15000.0      1400.0  600.0  \n",
              "19526   1000.0       360.0   25.0  \n",
              "19528    900.0       490.0   48.0  \n",
              "19529   1800.0       800.0   40.0  \n",
              "19530   1400.0       509.0   37.0  \n",
              "\n",
              "[13950 rows x 9 columns]"
            ],
            "text/html": "<div>\n<style scoped>\n    .dataframe tbody tr th:only-of-type {\n        vertical-align: middle;\n    }\n\n    .dataframe tbody tr th {\n        vertical-align: top;\n    }\n\n    .dataframe thead th {\n        text-align: right;\n    }\n</style>\n<table border=\"1\" class=\"dataframe\">\n  <thead>\n    <tr style=\"text-align: right;\">\n      <th></th>\n      <th>Tipo</th>\n      <th>Bairro</th>\n      <th>Quartos</th>\n      <th>Vagas</th>\n      <th>Suites</th>\n      <th>Area</th>\n      <th>Valor</th>\n      <th>Condominio</th>\n      <th>IPTU</th>\n    </tr>\n  </thead>\n  <tbody>\n    <tr>\n      <th>0</th>\n      <td>Apartamento</td>\n      <td>Centro</td>\n      <td>1</td>\n      <td>0</td>\n      <td>0</td>\n      <td>15</td>\n      <td>800.0</td>\n      <td>390.0</td>\n      <td>20.0</td>\n    </tr>\n    <tr>\n      <th>3</th>\n      <td>Apartamento</td>\n      <td>Cachambi</td>\n      <td>2</td>\n      <td>0</td>\n      <td>0</td>\n      <td>50</td>\n      <td>1300.0</td>\n      <td>301.0</td>\n      <td>17.0</td>\n    </tr>\n    <tr>\n      <th>5</th>\n      <td>Apartamento</td>\n      <td>Grajaú</td>\n      <td>2</td>\n      <td>1</td>\n      <td>0</td>\n      <td>70</td>\n      <td>1500.0</td>\n      <td>642.0</td>\n      <td>74.0</td>\n    </tr>\n    <tr>\n      <th>6</th>\n      <td>Apartamento</td>\n      <td>Lins de Vasconcelos</td>\n      <td>3</td>\n      <td>1</td>\n      <td>1</td>\n      <td>90</td>\n      <td>1500.0</td>\n      <td>455.0</td>\n      <td>14.0</td>\n    </tr>\n    <tr>\n      <th>7</th>\n      <td>Apartamento</td>\n      <td>Copacabana</td>\n      <td>1</td>\n      <td>0</td>\n      <td>1</td>\n      <td>40</td>\n      <td>2000.0</td>\n      <td>561.0</td>\n      <td>50.0</td>\n    </tr>\n    <tr>\n      <th>...</th>\n      <td>...</td>\n      <td>...</td>\n      <td>...</td>\n      <td>...</td>\n      <td>...</td>\n      <td>...</td>\n      <td>...</td>\n      <td>...</td>\n      <td>...</td>\n    </tr>\n    <tr>\n      <th>19525</th>\n      <td>Apartamento</td>\n      <td>Ipanema</td>\n      <td>3</td>\n      <td>1</td>\n      <td>2</td>\n      <td>150</td>\n      <td>15000.0</td>\n      <td>1400.0</td>\n      <td>600.0</td>\n    </tr>\n    <tr>\n      <th>19526</th>\n      <td>Apartamento</td>\n      <td>Tijuca</td>\n      <td>1</td>\n      <td>0</td>\n      <td>0</td>\n      <td>28</td>\n      <td>1000.0</td>\n      <td>360.0</td>\n      <td>25.0</td>\n    </tr>\n    <tr>\n      <th>19528</th>\n      <td>Apartamento</td>\n      <td>Méier</td>\n      <td>2</td>\n      <td>0</td>\n      <td>0</td>\n      <td>70</td>\n      <td>900.0</td>\n      <td>490.0</td>\n      <td>48.0</td>\n    </tr>\n    <tr>\n      <th>19529</th>\n      <td>Apartamento</td>\n      <td>Jacarepaguá</td>\n      <td>3</td>\n      <td>1</td>\n      <td>2</td>\n      <td>78</td>\n      <td>1800.0</td>\n      <td>800.0</td>\n      <td>40.0</td>\n    </tr>\n    <tr>\n      <th>19530</th>\n      <td>Apartamento</td>\n      <td>São Francisco Xavier</td>\n      <td>2</td>\n      <td>1</td>\n      <td>0</td>\n      <td>48</td>\n      <td>1400.0</td>\n      <td>509.0</td>\n      <td>37.0</td>\n    </tr>\n  </tbody>\n</table>\n<p>13950 rows × 9 columns</p>\n</div>"
          },
          "metadata": {},
          "execution_count": 23
        }
      ]
    },
    {
      "cell_type": "markdown",
      "metadata": {
        "id": "WOk1r2njo4Kk"
      },
      "source": [
        "#5. Proponha 2 possíveis transformações para o dataframe utilizando os métodos apply() e/ou map()."
      ]
    },
    {
      "cell_type": "code",
      "metadata": {
        "colab": {
          "base_uri": "https://localhost:8080/",
          "height": 502
        },
        "id": "t0BFTxvgpF8s",
        "outputId": "1aae802c-8182-43b3-af8f-f114a70023bd"
      },
      "source": [
        "#Mudar os apartamentos onde Suítes = 0 para \"Não possui\"\n",
        "#Definição da função auxiliar para transformação dos dados:\n",
        "def suites0toNaoPossui(n):\n",
        "  if n == 0:\n",
        "    return 'Nao possui'\n",
        "  else:\n",
        "    return n\n",
        "\n",
        "#Transformação dos dados e visualização:\n",
        "dataframe_aptos['Suites'] = dataframe_aptos['Suites'].apply(suites0toNaoPossui)\n",
        "dataframe_aptos"
      ],
      "execution_count": 24,
      "outputs": [
        {
          "output_type": "stream",
          "name": "stderr",
          "text": [
            "<ipython-input-24-f4abc8d069ca>:10: SettingWithCopyWarning: \nA value is trying to be set on a copy of a slice from a DataFrame.\nTry using .loc[row_indexer,col_indexer] = value instead\n\nSee the caveats in the documentation: https://pandas.pydata.org/pandas-docs/stable/user_guide/indexing.html#returning-a-view-versus-a-copy\n  dataframe_aptos['Suites'] = dataframe_aptos['Suites'].apply(suites0toNaoPossui)\n"
          ]
        },
        {
          "output_type": "execute_result",
          "data": {
            "text/plain": [
              "              Tipo                Bairro  Quartos  Vagas      Suites  Area  \\\n",
              "0      Apartamento                Centro        1      0  Nao possui    15   \n",
              "3      Apartamento              Cachambi        2      0  Nao possui    50   \n",
              "5      Apartamento                Grajaú        2      1  Nao possui    70   \n",
              "6      Apartamento   Lins de Vasconcelos        3      1           1    90   \n",
              "7      Apartamento            Copacabana        1      0           1    40   \n",
              "...            ...                   ...      ...    ...         ...   ...   \n",
              "19525  Apartamento               Ipanema        3      1           2   150   \n",
              "19526  Apartamento                Tijuca        1      0  Nao possui    28   \n",
              "19528  Apartamento                 Méier        2      0  Nao possui    70   \n",
              "19529  Apartamento           Jacarepaguá        3      1           2    78   \n",
              "19530  Apartamento  São Francisco Xavier        2      1  Nao possui    48   \n",
              "\n",
              "         Valor  Condominio   IPTU  \n",
              "0        800.0       390.0   20.0  \n",
              "3       1300.0       301.0   17.0  \n",
              "5       1500.0       642.0   74.0  \n",
              "6       1500.0       455.0   14.0  \n",
              "7       2000.0       561.0   50.0  \n",
              "...        ...         ...    ...  \n",
              "19525  15000.0      1400.0  600.0  \n",
              "19526   1000.0       360.0   25.0  \n",
              "19528    900.0       490.0   48.0  \n",
              "19529   1800.0       800.0   40.0  \n",
              "19530   1400.0       509.0   37.0  \n",
              "\n",
              "[13950 rows x 9 columns]"
            ],
            "text/html": "<div>\n<style scoped>\n    .dataframe tbody tr th:only-of-type {\n        vertical-align: middle;\n    }\n\n    .dataframe tbody tr th {\n        vertical-align: top;\n    }\n\n    .dataframe thead th {\n        text-align: right;\n    }\n</style>\n<table border=\"1\" class=\"dataframe\">\n  <thead>\n    <tr style=\"text-align: right;\">\n      <th></th>\n      <th>Tipo</th>\n      <th>Bairro</th>\n      <th>Quartos</th>\n      <th>Vagas</th>\n      <th>Suites</th>\n      <th>Area</th>\n      <th>Valor</th>\n      <th>Condominio</th>\n      <th>IPTU</th>\n    </tr>\n  </thead>\n  <tbody>\n    <tr>\n      <th>0</th>\n      <td>Apartamento</td>\n      <td>Centro</td>\n      <td>1</td>\n      <td>0</td>\n      <td>Nao possui</td>\n      <td>15</td>\n      <td>800.0</td>\n      <td>390.0</td>\n      <td>20.0</td>\n    </tr>\n    <tr>\n      <th>3</th>\n      <td>Apartamento</td>\n      <td>Cachambi</td>\n      <td>2</td>\n      <td>0</td>\n      <td>Nao possui</td>\n      <td>50</td>\n      <td>1300.0</td>\n      <td>301.0</td>\n      <td>17.0</td>\n    </tr>\n    <tr>\n      <th>5</th>\n      <td>Apartamento</td>\n      <td>Grajaú</td>\n      <td>2</td>\n      <td>1</td>\n      <td>Nao possui</td>\n      <td>70</td>\n      <td>1500.0</td>\n      <td>642.0</td>\n      <td>74.0</td>\n    </tr>\n    <tr>\n      <th>6</th>\n      <td>Apartamento</td>\n      <td>Lins de Vasconcelos</td>\n      <td>3</td>\n      <td>1</td>\n      <td>1</td>\n      <td>90</td>\n      <td>1500.0</td>\n      <td>455.0</td>\n      <td>14.0</td>\n    </tr>\n    <tr>\n      <th>7</th>\n      <td>Apartamento</td>\n      <td>Copacabana</td>\n      <td>1</td>\n      <td>0</td>\n      <td>1</td>\n      <td>40</td>\n      <td>2000.0</td>\n      <td>561.0</td>\n      <td>50.0</td>\n    </tr>\n    <tr>\n      <th>...</th>\n      <td>...</td>\n      <td>...</td>\n      <td>...</td>\n      <td>...</td>\n      <td>...</td>\n      <td>...</td>\n      <td>...</td>\n      <td>...</td>\n      <td>...</td>\n    </tr>\n    <tr>\n      <th>19525</th>\n      <td>Apartamento</td>\n      <td>Ipanema</td>\n      <td>3</td>\n      <td>1</td>\n      <td>2</td>\n      <td>150</td>\n      <td>15000.0</td>\n      <td>1400.0</td>\n      <td>600.0</td>\n    </tr>\n    <tr>\n      <th>19526</th>\n      <td>Apartamento</td>\n      <td>Tijuca</td>\n      <td>1</td>\n      <td>0</td>\n      <td>Nao possui</td>\n      <td>28</td>\n      <td>1000.0</td>\n      <td>360.0</td>\n      <td>25.0</td>\n    </tr>\n    <tr>\n      <th>19528</th>\n      <td>Apartamento</td>\n      <td>Méier</td>\n      <td>2</td>\n      <td>0</td>\n      <td>Nao possui</td>\n      <td>70</td>\n      <td>900.0</td>\n      <td>490.0</td>\n      <td>48.0</td>\n    </tr>\n    <tr>\n      <th>19529</th>\n      <td>Apartamento</td>\n      <td>Jacarepaguá</td>\n      <td>3</td>\n      <td>1</td>\n      <td>2</td>\n      <td>78</td>\n      <td>1800.0</td>\n      <td>800.0</td>\n      <td>40.0</td>\n    </tr>\n    <tr>\n      <th>19530</th>\n      <td>Apartamento</td>\n      <td>São Francisco Xavier</td>\n      <td>2</td>\n      <td>1</td>\n      <td>Nao possui</td>\n      <td>48</td>\n      <td>1400.0</td>\n      <td>509.0</td>\n      <td>37.0</td>\n    </tr>\n  </tbody>\n</table>\n<p>13950 rows × 9 columns</p>\n</div>"
          },
          "metadata": {},
          "execution_count": 24
        }
      ]
    },
    {
      "cell_type": "code",
      "metadata": {
        "colab": {
          "base_uri": "https://localhost:8080/",
          "height": 502
        },
        "id": "eEWoYXEuuyr9",
        "outputId": "69c50689-09dd-4fd0-b26d-912192e43440"
      },
      "source": [
        "#Mudar os apartamentos onde Vagas = 0 para \"Sem vagas\"\n",
        "#Definição da função auxiliar para transformação dos dados:\n",
        "def vagas0toSemVagas(n):\n",
        "  if n == 0:\n",
        "    return 'Sem Vagas'\n",
        "  else:\n",
        "    return n\n",
        "\n",
        "#Transformação dos dados e visualização:\n",
        "dataframe_aptos['Vagas'] = dataframe_aptos['Vagas'].apply(vagas0toSemVagas)\n",
        "dataframe_aptos"
      ],
      "execution_count": 25,
      "outputs": [
        {
          "output_type": "stream",
          "name": "stderr",
          "text": [
            "<ipython-input-25-a91f6d6b3827>:10: SettingWithCopyWarning: \nA value is trying to be set on a copy of a slice from a DataFrame.\nTry using .loc[row_indexer,col_indexer] = value instead\n\nSee the caveats in the documentation: https://pandas.pydata.org/pandas-docs/stable/user_guide/indexing.html#returning-a-view-versus-a-copy\n  dataframe_aptos['Vagas'] = dataframe_aptos['Vagas'].apply(vagas0toSemVagas)\n"
          ]
        },
        {
          "output_type": "execute_result",
          "data": {
            "text/plain": [
              "              Tipo                Bairro  Quartos      Vagas      Suites  \\\n",
              "0      Apartamento                Centro        1  Sem Vagas  Nao possui   \n",
              "3      Apartamento              Cachambi        2  Sem Vagas  Nao possui   \n",
              "5      Apartamento                Grajaú        2          1  Nao possui   \n",
              "6      Apartamento   Lins de Vasconcelos        3          1           1   \n",
              "7      Apartamento            Copacabana        1  Sem Vagas           1   \n",
              "...            ...                   ...      ...        ...         ...   \n",
              "19525  Apartamento               Ipanema        3          1           2   \n",
              "19526  Apartamento                Tijuca        1  Sem Vagas  Nao possui   \n",
              "19528  Apartamento                 Méier        2  Sem Vagas  Nao possui   \n",
              "19529  Apartamento           Jacarepaguá        3          1           2   \n",
              "19530  Apartamento  São Francisco Xavier        2          1  Nao possui   \n",
              "\n",
              "       Area    Valor  Condominio   IPTU  \n",
              "0        15    800.0       390.0   20.0  \n",
              "3        50   1300.0       301.0   17.0  \n",
              "5        70   1500.0       642.0   74.0  \n",
              "6        90   1500.0       455.0   14.0  \n",
              "7        40   2000.0       561.0   50.0  \n",
              "...     ...      ...         ...    ...  \n",
              "19525   150  15000.0      1400.0  600.0  \n",
              "19526    28   1000.0       360.0   25.0  \n",
              "19528    70    900.0       490.0   48.0  \n",
              "19529    78   1800.0       800.0   40.0  \n",
              "19530    48   1400.0       509.0   37.0  \n",
              "\n",
              "[13950 rows x 9 columns]"
            ],
            "text/html": "<div>\n<style scoped>\n    .dataframe tbody tr th:only-of-type {\n        vertical-align: middle;\n    }\n\n    .dataframe tbody tr th {\n        vertical-align: top;\n    }\n\n    .dataframe thead th {\n        text-align: right;\n    }\n</style>\n<table border=\"1\" class=\"dataframe\">\n  <thead>\n    <tr style=\"text-align: right;\">\n      <th></th>\n      <th>Tipo</th>\n      <th>Bairro</th>\n      <th>Quartos</th>\n      <th>Vagas</th>\n      <th>Suites</th>\n      <th>Area</th>\n      <th>Valor</th>\n      <th>Condominio</th>\n      <th>IPTU</th>\n    </tr>\n  </thead>\n  <tbody>\n    <tr>\n      <th>0</th>\n      <td>Apartamento</td>\n      <td>Centro</td>\n      <td>1</td>\n      <td>Sem Vagas</td>\n      <td>Nao possui</td>\n      <td>15</td>\n      <td>800.0</td>\n      <td>390.0</td>\n      <td>20.0</td>\n    </tr>\n    <tr>\n      <th>3</th>\n      <td>Apartamento</td>\n      <td>Cachambi</td>\n      <td>2</td>\n      <td>Sem Vagas</td>\n      <td>Nao possui</td>\n      <td>50</td>\n      <td>1300.0</td>\n      <td>301.0</td>\n      <td>17.0</td>\n    </tr>\n    <tr>\n      <th>5</th>\n      <td>Apartamento</td>\n      <td>Grajaú</td>\n      <td>2</td>\n      <td>1</td>\n      <td>Nao possui</td>\n      <td>70</td>\n      <td>1500.0</td>\n      <td>642.0</td>\n      <td>74.0</td>\n    </tr>\n    <tr>\n      <th>6</th>\n      <td>Apartamento</td>\n      <td>Lins de Vasconcelos</td>\n      <td>3</td>\n      <td>1</td>\n      <td>1</td>\n      <td>90</td>\n      <td>1500.0</td>\n      <td>455.0</td>\n      <td>14.0</td>\n    </tr>\n    <tr>\n      <th>7</th>\n      <td>Apartamento</td>\n      <td>Copacabana</td>\n      <td>1</td>\n      <td>Sem Vagas</td>\n      <td>1</td>\n      <td>40</td>\n      <td>2000.0</td>\n      <td>561.0</td>\n      <td>50.0</td>\n    </tr>\n    <tr>\n      <th>...</th>\n      <td>...</td>\n      <td>...</td>\n      <td>...</td>\n      <td>...</td>\n      <td>...</td>\n      <td>...</td>\n      <td>...</td>\n      <td>...</td>\n      <td>...</td>\n    </tr>\n    <tr>\n      <th>19525</th>\n      <td>Apartamento</td>\n      <td>Ipanema</td>\n      <td>3</td>\n      <td>1</td>\n      <td>2</td>\n      <td>150</td>\n      <td>15000.0</td>\n      <td>1400.0</td>\n      <td>600.0</td>\n    </tr>\n    <tr>\n      <th>19526</th>\n      <td>Apartamento</td>\n      <td>Tijuca</td>\n      <td>1</td>\n      <td>Sem Vagas</td>\n      <td>Nao possui</td>\n      <td>28</td>\n      <td>1000.0</td>\n      <td>360.0</td>\n      <td>25.0</td>\n    </tr>\n    <tr>\n      <th>19528</th>\n      <td>Apartamento</td>\n      <td>Méier</td>\n      <td>2</td>\n      <td>Sem Vagas</td>\n      <td>Nao possui</td>\n      <td>70</td>\n      <td>900.0</td>\n      <td>490.0</td>\n      <td>48.0</td>\n    </tr>\n    <tr>\n      <th>19529</th>\n      <td>Apartamento</td>\n      <td>Jacarepaguá</td>\n      <td>3</td>\n      <td>1</td>\n      <td>2</td>\n      <td>78</td>\n      <td>1800.0</td>\n      <td>800.0</td>\n      <td>40.0</td>\n    </tr>\n    <tr>\n      <th>19530</th>\n      <td>Apartamento</td>\n      <td>São Francisco Xavier</td>\n      <td>2</td>\n      <td>1</td>\n      <td>Nao possui</td>\n      <td>48</td>\n      <td>1400.0</td>\n      <td>509.0</td>\n      <td>37.0</td>\n    </tr>\n  </tbody>\n</table>\n<p>13950 rows × 9 columns</p>\n</div>"
          },
          "metadata": {},
          "execution_count": 25
        }
      ]
    },
    {
      "cell_type": "markdown",
      "metadata": {
        "id": "rjnu4MVvExS7"
      },
      "source": [
        "#6. Salve o dataframe final na extensão csv, contendo apenas o seu tipo de imóveis, os tratamentos dos dados faltantes e as transformações feitas"
      ]
    },
    {
      "cell_type": "code",
      "metadata": {
        "id": "aI6ovvM2Ew8l"
      },
      "source": [
        "dataframe_aptos.to_csv ('dataframe_aptos_saida.csv', index = None, header=True)"
      ],
      "execution_count": 26,
      "outputs": []
    }
  ]
}